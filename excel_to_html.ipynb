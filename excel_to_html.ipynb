{
 "cells": [
  {
   "cell_type": "code",
   "execution_count": 14,
   "id": "10a229b8-5604-4879-a783-b64a7c048367",
   "metadata": {},
   "outputs": [
    {
     "name": "stdout",
     "output_type": "stream",
     "text": [
      "✅ تم توليد صفحة شقق للإيجار\n"
     ]
    },
    {
     "name": "stderr",
     "output_type": "stream",
     "text": [
      "[NbConvertApp] Converting notebook excel_to_html.ipynb to script\n",
      "[NbConvertApp] Writing 725 bytes to excel_to_html.py\n"
     ]
    }
   ],
   "source": [
    "import pandas as pd\n",
    "from jinja2 import Template\n",
    "\n",
    "# اقرأ ملف الإكسل\n",
    "df = pd.read_excel(\"شقق للإيجار (نسخة العرض) - Copy (2).xlsx\")\n",
    "\n",
    "# احذف العمود الأخير إذا كان فارغ أو باسم \"None\"\n",
    "if df.columns[-1] == \"None\":\n",
    "    df = df.iloc[:, :-1]\n",
    "\n",
    "# حوّل الصفوف إلى HTML\n",
    "table_rows = df.to_html(index=False, header=False, classes=\"data\", border=1).split(\"<tbody>\")[1].split(\"</tbody>\")[0]\n",
    "\n",
    "# اقرأ القالب\n",
    "with open(\"template.html\", \"r\", encoding=\"utf-8\") as f:\n",
    "    template = Template(f.read())\n",
    "\n",
    "# اكتب الناتج إلى HTML جديد\n",
    "with open(\"شقق للإيجار.html\", \"w\", encoding=\"utf-8\") as f:\n",
    "    f.write(template.render(table_rows=table_rows))\n",
    "\n",
    "print(\"✅ تم توليد صفحة شقق للإيجار\")\n",
    "!jupyter nbconvert --to script excel_to_html.ipynb"
   ]
  },
  {
   "cell_type": "code",
   "execution_count": null,
   "id": "b84da225-7c42-4aac-b2b4-0f772972b53a",
   "metadata": {},
   "outputs": [],
   "source": []
  }
 ],
 "metadata": {
  "kernelspec": {
   "display_name": "Python 3 (ipykernel)",
   "language": "python",
   "name": "python3"
  },
  "language_info": {
   "codemirror_mode": {
    "name": "ipython",
    "version": 3
   },
   "file_extension": ".py",
   "mimetype": "text/x-python",
   "name": "python",
   "nbconvert_exporter": "python",
   "pygments_lexer": "ipython3",
   "version": "3.13.2"
  }
 },
 "nbformat": 4,
 "nbformat_minor": 5
}
